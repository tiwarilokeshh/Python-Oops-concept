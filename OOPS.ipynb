{
  "nbformat": 4,
  "nbformat_minor": 0,
  "metadata": {
    "colab": {
      "provenance": []
    },
    "kernelspec": {
      "name": "python3",
      "display_name": "Python 3"
    },
    "language_info": {
      "name": "python"
    }
  },
  "cells": [
    {
      "cell_type": "markdown",
      "source": [
        "# ***OOPS***\n",
        "\n",
        "> Object Oriented Programming System\n",
        "\n"
      ],
      "metadata": {
        "id": "kYDHeBUYW85P"
      }
    },
    {
      "cell_type": "code",
      "source": [
        "a = 5\n",
        "a"
      ],
      "metadata": {
        "colab": {
          "base_uri": "https://localhost:8080/"
        },
        "id": "ekY6y4y0X5GD",
        "outputId": "dbe33ed2-1217-47e6-9cf1-6d6a7776caf8"
      },
      "execution_count": null,
      "outputs": [
        {
          "output_type": "execute_result",
          "data": {
            "text/plain": [
              "5"
            ]
          },
          "metadata": {},
          "execution_count": 1
        }
      ]
    },
    {
      "cell_type": "code",
      "source": [
        "type(a)"
      ],
      "metadata": {
        "colab": {
          "base_uri": "https://localhost:8080/"
        },
        "id": "A4rhdx7VYFMd",
        "outputId": "6928ea1f-eec8-4836-d250-e36257e026e0"
      },
      "execution_count": null,
      "outputs": [
        {
          "output_type": "execute_result",
          "data": {
            "text/plain": [
              "int"
            ]
          },
          "metadata": {},
          "execution_count": 2
        }
      ]
    },
    {
      "cell_type": "code",
      "source": [
        "print(type(a))"
      ],
      "metadata": {
        "colab": {
          "base_uri": "https://localhost:8080/"
        },
        "id": "XmGOfSV_YGOO",
        "outputId": "7cd4ca75-b2ca-4e8c-89cb-36758765dfe5"
      },
      "execution_count": null,
      "outputs": [
        {
          "output_type": "stream",
          "name": "stdout",
          "text": [
            "<class 'int'>\n"
          ]
        }
      ]
    },
    {
      "cell_type": "code",
      "source": [
        "b = 4 # different object of the particular class\n",
        "print(type(b))"
      ],
      "metadata": {
        "colab": {
          "base_uri": "https://localhost:8080/"
        },
        "id": "f8jrZEbmYIRn",
        "outputId": "275cd996-78c0-49a2-a143-a170e0ad26ff"
      },
      "execution_count": null,
      "outputs": [
        {
          "output_type": "stream",
          "name": "stdout",
          "text": [
            "<class 'int'>\n"
          ]
        }
      ]
    },
    {
      "cell_type": "code",
      "source": [
        "# what is this class > <class 'int'>"
      ],
      "metadata": {
        "id": "Dr1wkbX0YN-W"
      },
      "execution_count": null,
      "outputs": []
    },
    {
      "cell_type": "code",
      "source": [
        "s = \"pwskills\"\n",
        "print(type(s))"
      ],
      "metadata": {
        "colab": {
          "base_uri": "https://localhost:8080/"
        },
        "id": "bB15fmHjYR_5",
        "outputId": "3731728f-b577-4073-e316-4dea1c12550e"
      },
      "execution_count": null,
      "outputs": [
        {
          "output_type": "stream",
          "name": "stdout",
          "text": [
            "<class 'str'>\n"
          ]
        }
      ]
    },
    {
      "cell_type": "markdown",
      "source": [
        "\n",
        "\n",
        "> what is classes ?\n",
        "\n",
        "> Classses are blueprint / template for creating an object.\n",
        "\n",
        "> we are diffrent object of class\n",
        "\n",
        "> Human being > template (class) , ears nose eyes > property of the class , diff humans > diff object of the class\n",
        "\n",
        "> gujiya maker (class) , ingrediant (property) , gujiyas (object)\n",
        "\n",
        "\n",
        "\n",
        "\n",
        "\n",
        "\n"
      ],
      "metadata": {
        "id": "ZdTn7eIT3jKj"
      }
    },
    {
      "cell_type": "code",
      "source": [
        "a = \"lokesh\"\n",
        "print(type(a))"
      ],
      "metadata": {
        "id": "ZpYjH8bOYWNH",
        "colab": {
          "base_uri": "https://localhost:8080/"
        },
        "outputId": "5522b46f-617b-4347-8a88-0529e43ad899"
      },
      "execution_count": null,
      "outputs": [
        {
          "output_type": "stream",
          "name": "stdout",
          "text": [
            "<class 'str'>\n"
          ]
        }
      ]
    },
    {
      "cell_type": "code",
      "source": [
        "a = \"rashi\"\n",
        "print(type(a))"
      ],
      "metadata": {
        "colab": {
          "base_uri": "https://localhost:8080/"
        },
        "id": "QAZj7d_Z5MoG",
        "outputId": "cb576146-b6e3-48a5-c704-483aecaa3fd2"
      },
      "execution_count": null,
      "outputs": [
        {
          "output_type": "stream",
          "name": "stdout",
          "text": [
            "<class 'str'>\n"
          ]
        }
      ]
    },
    {
      "cell_type": "code",
      "source": [
        "# How to define a class\n",
        "\n",
        "#class car is nothing but a template\n",
        "\n",
        "class Car: # naming convention >> Uppercase >> first letter of the class are uppercase\n",
        "     pass"
      ],
      "metadata": {
        "id": "-D7o4tKg5VlV"
      },
      "execution_count": null,
      "outputs": []
    },
    {
      "cell_type": "code",
      "source": [
        "c1 = Car() # instance/object"
      ],
      "metadata": {
        "id": "yCfcBtcT7zKT"
      },
      "execution_count": null,
      "outputs": []
    },
    {
      "cell_type": "code",
      "source": [
        "print(type(c1))"
      ],
      "metadata": {
        "colab": {
          "base_uri": "https://localhost:8080/"
        },
        "id": "V888eJUY8AYw",
        "outputId": "627c13de-fb32-4999-c30f-d250c31de265"
      },
      "execution_count": null,
      "outputs": [
        {
          "output_type": "stream",
          "name": "stdout",
          "text": [
            "<class '__main__.Car'>\n"
          ]
        }
      ]
    },
    {
      "cell_type": "code",
      "source": [
        "# why oops >> we already had function\n",
        "#a project can have many component , say backend (f1 ,f2) , frontend (f3 ,f4) , data pipeline (f5 , f6)\n",
        "\n",
        "#def f1():\n",
        " # pass\n",
        "\n",
        "#def f2():\n",
        " # pass\n",
        "\n",
        "#def f6():\n",
        " # pass\n",
        "\n",
        "#def f4():\n",
        " # pass\n",
        "\n",
        "\n",
        "# if a backend developer want to change some backend function > all the functions are at one place\n",
        "\n",
        "# Oops helps you to arrange the required functions in respective classes"
      ],
      "metadata": {
        "id": "GXIzJH8l8EEI"
      },
      "execution_count": null,
      "outputs": []
    },
    {
      "cell_type": "code",
      "source": [
        "class Car:\n",
        "  pass"
      ],
      "metadata": {
        "id": "5JEqa3ks_IUH"
      },
      "execution_count": null,
      "outputs": []
    },
    {
      "cell_type": "code",
      "source": [
        "c1 = Car()\n",
        "print(type(c1))"
      ],
      "metadata": {
        "colab": {
          "base_uri": "https://localhost:8080/"
        },
        "id": "SKIgucSp_K-T",
        "outputId": "c78d1cbc-b558-4d41-bd81-cdfe96d3bbf2"
      },
      "execution_count": null,
      "outputs": [
        {
          "output_type": "stream",
          "name": "stdout",
          "text": [
            "<class '__main__.Car'>\n"
          ]
        }
      ]
    },
    {
      "cell_type": "code",
      "source": [
        "class Car:  # function/method of a car\n",
        "  def accelerate():\n",
        "    print(\"car is accelerating\")"
      ],
      "metadata": {
        "id": "DiUgTmCY_P1W"
      },
      "execution_count": null,
      "outputs": []
    },
    {
      "cell_type": "code",
      "source": [
        "c1 = Car()"
      ],
      "metadata": {
        "id": "GbufROCA_70M"
      },
      "execution_count": null,
      "outputs": []
    },
    {
      "cell_type": "code",
      "source": [
        "c1.accelerate() # it will throw an error"
      ],
      "metadata": {
        "colab": {
          "base_uri": "https://localhost:8080/",
          "height": 141
        },
        "id": "xu_bRnvk__qf",
        "outputId": "1f993cf2-2974-46e0-ee82-a477cb5bfcca"
      },
      "execution_count": null,
      "outputs": [
        {
          "output_type": "error",
          "ename": "TypeError",
          "evalue": "Car.accelerate() takes 0 positional arguments but 1 was given",
          "traceback": [
            "\u001b[0;31m---------------------------------------------------------------------------\u001b[0m",
            "\u001b[0;31mTypeError\u001b[0m                                 Traceback (most recent call last)",
            "\u001b[0;32m<ipython-input-17-26da508c506c>\u001b[0m in \u001b[0;36m<cell line: 0>\u001b[0;34m()\u001b[0m\n\u001b[0;32m----> 1\u001b[0;31m \u001b[0mc1\u001b[0m\u001b[0;34m.\u001b[0m\u001b[0maccelerate\u001b[0m\u001b[0;34m(\u001b[0m\u001b[0;34m)\u001b[0m \u001b[0;31m# it will throw an error\u001b[0m\u001b[0;34m\u001b[0m\u001b[0;34m\u001b[0m\u001b[0m\n\u001b[0m",
            "\u001b[0;31mTypeError\u001b[0m: Car.accelerate() takes 0 positional arguments but 1 was given"
          ]
        }
      ]
    },
    {
      "cell_type": "code",
      "source": [
        "class Car:  # function/method of a car\n",
        "  def accelerate(self):\n",
        "    print(\"car is accelerating\")\n",
        "\n",
        "# self >> a variable that represent instance of the class using which you can access method/function of class , also attribute/property/data of the class.\n",
        "# self makes sure that each object knows that the method is associated with it.\n",
        "# in other word the method is referenced to that particular object."
      ],
      "metadata": {
        "id": "-C0al6QrAOnU"
      },
      "execution_count": null,
      "outputs": []
    },
    {
      "cell_type": "code",
      "source": [
        "c1 = Car()\n",
        "c1.accelerate()"
      ],
      "metadata": {
        "id": "hKTebj-jBdv8"
      },
      "execution_count": null,
      "outputs": []
    },
    {
      "cell_type": "code",
      "source": [
        "c2 = Car()\n",
        "c2.accelerate()"
      ],
      "metadata": {
        "id": "JrHKmA22Bhzw"
      },
      "execution_count": null,
      "outputs": []
    },
    {
      "cell_type": "code",
      "source": [
        "class Car:\n",
        "  def accelerate(self):\n",
        "    print(\"car is accelerating\")\n",
        "  def brake(self):\n",
        "    print(\"car is stopping\")"
      ],
      "metadata": {
        "id": "FeEa4XstCUh-"
      },
      "execution_count": null,
      "outputs": []
    },
    {
      "cell_type": "code",
      "source": [
        "c1 = Car()\n",
        "c1.brake()"
      ],
      "metadata": {
        "id": "76Fe4y-gD3aM"
      },
      "execution_count": null,
      "outputs": []
    },
    {
      "cell_type": "code",
      "source": [
        "c1.accelerate()"
      ],
      "metadata": {
        "id": "PzvQWMeKD8c_"
      },
      "execution_count": null,
      "outputs": []
    },
    {
      "cell_type": "code",
      "source": [
        "class Bank:\n",
        "  def deposit(self):\n",
        "    print(\"i am depositing the money\")"
      ],
      "metadata": {
        "id": "v0vQuWseEAbY"
      },
      "execution_count": null,
      "outputs": []
    },
    {
      "cell_type": "code",
      "source": [
        "c1 = Bank()\n",
        "c1.deposit()"
      ],
      "metadata": {
        "id": "9aHP0xZAEXfJ"
      },
      "execution_count": null,
      "outputs": []
    },
    {
      "cell_type": "code",
      "source": [
        "# you no need to write self you write the any value replacing with self\n",
        "\n",
        "#self is not a python kyword you can write everything"
      ],
      "metadata": {
        "id": "GRuL-AcCEeG4"
      },
      "execution_count": null,
      "outputs": []
    },
    {
      "cell_type": "code",
      "source": [
        "class Bank:\n",
        "  def deposit(lokesh):\n",
        "    print(\"i am depositing the money\")"
      ],
      "metadata": {
        "id": "N8orARP4E12I"
      },
      "execution_count": null,
      "outputs": []
    },
    {
      "cell_type": "code",
      "source": [
        "c1 = Bank()\n",
        "c1.deposit()"
      ],
      "metadata": {
        "id": "m5WM_KRIE33j"
      },
      "execution_count": null,
      "outputs": []
    },
    {
      "cell_type": "code",
      "source": [
        "class Bank:\n",
        "  def deposit(self):\n",
        "    print(\"i am depositing the money\")\n",
        "  def withdraw(self):\n",
        "    print(\" i am withdraw the money\")"
      ],
      "metadata": {
        "id": "aP8ZsJdzE7uv"
      },
      "execution_count": null,
      "outputs": []
    },
    {
      "cell_type": "code",
      "source": [
        "c1 = Bank()\n",
        "c1.withdraw()"
      ],
      "metadata": {
        "id": "SfOsrNjyFShi"
      },
      "execution_count": null,
      "outputs": []
    },
    {
      "cell_type": "code",
      "source": [
        "c2 = Bank()\n",
        "c2.deposit()"
      ],
      "metadata": {
        "id": "fAY42lvWFYBV"
      },
      "execution_count": null,
      "outputs": []
    },
    {
      "cell_type": "code",
      "source": [
        "# passing data in the class >> can also be called property\n",
        "\n",
        "class Bank:\n",
        "  def deposit(self , amount):\n",
        "    print(\"i am depositing the money\")\n",
        "  def withdraw(self , amount_withdraw):\n",
        "    print(\" i am withdraw the money\")"
      ],
      "metadata": {
        "id": "yGLIKKLBFyCM"
      },
      "execution_count": null,
      "outputs": []
    },
    {
      "cell_type": "code",
      "source": [
        "lokesh = Bank()\n",
        "lokesh.deposit() # throw an error >> you want to deposit as a function but you dont write it"
      ],
      "metadata": {
        "id": "AfTJH4hsGKTT"
      },
      "execution_count": null,
      "outputs": []
    },
    {
      "cell_type": "code",
      "source": [
        "lokesh.deposit(1000)"
      ],
      "metadata": {
        "id": "2_1b3ekwGPjG"
      },
      "execution_count": null,
      "outputs": []
    },
    {
      "cell_type": "code",
      "source": [
        "lokesh.withdraw()"
      ],
      "metadata": {
        "id": "TjW6RBaqGdlQ"
      },
      "execution_count": null,
      "outputs": []
    },
    {
      "cell_type": "code",
      "source": [
        "lokesh.withdraw(500)"
      ],
      "metadata": {
        "id": "16EFiK1sGg0G"
      },
      "execution_count": null,
      "outputs": []
    },
    {
      "cell_type": "code",
      "source": [
        "# bank will ask for a default amount , amount is property of class Bank\n",
        "\n",
        "class Bank:\n",
        "  amount = 1000\n",
        "  def deposit(self , amount):\n",
        "    print(\"i am depositing the money\")\n",
        "  def withdraw(self , amount_withdraw):\n",
        "    print(\" i am withdraw the money\")"
      ],
      "metadata": {
        "id": "JIYiOhj2Gj5W"
      },
      "execution_count": null,
      "outputs": []
    },
    {
      "cell_type": "code",
      "source": [
        "lokesh = Bank()\n",
        "lokesh.deposit(1000)"
      ],
      "metadata": {
        "id": "pVgGoTfGGygM"
      },
      "execution_count": null,
      "outputs": []
    },
    {
      "cell_type": "code",
      "source": [
        "# attrinutes/proprty can be also accessed the same way as method/functions are accessed.\n",
        "\n",
        "lokesh.amount"
      ],
      "metadata": {
        "id": "4rv2PCw_G0xj"
      },
      "execution_count": null,
      "outputs": []
    },
    {
      "cell_type": "code",
      "source": [
        "# extract odd and even number from a list\n",
        "\n",
        "class ListOps:\n",
        "  l = [1,2,3,4,5]\n",
        "  def extract_even(self, l):\n",
        "    l1 = []\n",
        "    for i in l:\n",
        "      if i%2 == 0:\n",
        "        l1.append(i)\n",
        "    return l1\n",
        "  def extract_odd(self, l):\n",
        "    l1 = []\n",
        "    for i in l:\n",
        "      if i%2 != 0:\n",
        "        l1.append(i)\n",
        "    return l1"
      ],
      "metadata": {
        "id": "WP9wHI92HYJ8"
      },
      "execution_count": null,
      "outputs": []
    },
    {
      "cell_type": "code",
      "source": [
        "ops1 = ListOps()"
      ],
      "metadata": {
        "id": "dNNY6hN8H8pX"
      },
      "execution_count": null,
      "outputs": []
    },
    {
      "cell_type": "code",
      "source": [
        "ops1.l"
      ],
      "metadata": {
        "colab": {
          "base_uri": "https://localhost:8080/"
        },
        "id": "yKCCxlxeID_f",
        "outputId": "ecc133c6-37e8-44e7-99c7-24b422f7363f"
      },
      "execution_count": null,
      "outputs": [
        {
          "output_type": "execute_result",
          "data": {
            "text/plain": [
              "[1, 2, 3, 4, 5]"
            ]
          },
          "metadata": {},
          "execution_count": 31
        }
      ]
    },
    {
      "cell_type": "code",
      "source": [
        "ops1.extract_even(ops1.l)"
      ],
      "metadata": {
        "colab": {
          "base_uri": "https://localhost:8080/"
        },
        "id": "tvhcJhdtIJan",
        "outputId": "d1c6a296-b405-4eb7-9813-6aef74667dc8"
      },
      "execution_count": null,
      "outputs": [
        {
          "output_type": "execute_result",
          "data": {
            "text/plain": [
              "[2, 4]"
            ]
          },
          "metadata": {},
          "execution_count": 32
        }
      ]
    },
    {
      "cell_type": "code",
      "source": [
        "ops1.extract_odd(ops1.l)"
      ],
      "metadata": {
        "colab": {
          "base_uri": "https://localhost:8080/"
        },
        "id": "eGjNBx-CIPkp",
        "outputId": "b96578fe-8d0d-48c4-c1e3-3c3055409473"
      },
      "execution_count": null,
      "outputs": [
        {
          "output_type": "execute_result",
          "data": {
            "text/plain": [
              "[1, 3, 5]"
            ]
          },
          "metadata": {},
          "execution_count": 33
        }
      ]
    },
    {
      "cell_type": "code",
      "source": [
        "ops1.extract_odd([11,25,12,30])"
      ],
      "metadata": {
        "colab": {
          "base_uri": "https://localhost:8080/"
        },
        "id": "-BnGjaL0Ijbt",
        "outputId": "11e55e26-b2bd-433e-b078-73077a45f351"
      },
      "execution_count": null,
      "outputs": [
        {
          "output_type": "execute_result",
          "data": {
            "text/plain": [
              "[11, 25]"
            ]
          },
          "metadata": {},
          "execution_count": 34
        }
      ]
    },
    {
      "cell_type": "code",
      "source": [
        "# if you make any object the atribute L is fixed\n",
        "# inpite of passing a different list above you are still getting the fixed L\n",
        "ops1.l"
      ],
      "metadata": {
        "colab": {
          "base_uri": "https://localhost:8080/"
        },
        "id": "Ql78KGYaI_Tp",
        "outputId": "9b4956f4-fea9-4457-f739-2aa5dc740228"
      },
      "execution_count": null,
      "outputs": [
        {
          "output_type": "execute_result",
          "data": {
            "text/plain": [
              "[1, 2, 3, 4, 5]"
            ]
          },
          "metadata": {},
          "execution_count": 35
        }
      ]
    },
    {
      "cell_type": "code",
      "source": [
        "# you want to take the attribute value of the class for each object differently\n",
        "\n",
        "class ListOps:\n",
        "  def __init__(self, l): # magic or dunder method , init means initialisation of variable\n",
        "      self.l = l\n",
        "\n",
        "  def extract_even(self, l):\n",
        "    l1 = []\n",
        "    for i in l:\n",
        "      if i%2 == 0:\n",
        "        l1.append(i)\n",
        "    return l1\n",
        "  def extract_odd(self, l):\n",
        "    l1 = []\n",
        "    for i in l:\n",
        "      if i%2 != 0:\n",
        "        l1.append(i)\n",
        "    return l1"
      ],
      "metadata": {
        "id": "e9vg6AmzJIoi"
      },
      "execution_count": null,
      "outputs": []
    },
    {
      "cell_type": "code",
      "source": [
        "ops1 = ListOps()"
      ],
      "metadata": {
        "colab": {
          "base_uri": "https://localhost:8080/",
          "height": 141
        },
        "id": "mYXbZTlUL2Uz",
        "outputId": "7e5dd9e6-1a6c-40e3-b4ec-3b68d4edd37e"
      },
      "execution_count": null,
      "outputs": [
        {
          "output_type": "error",
          "ename": "TypeError",
          "evalue": "ListOps.__init__() missing 1 required positional argument: 'l'",
          "traceback": [
            "\u001b[0;31m---------------------------------------------------------------------------\u001b[0m",
            "\u001b[0;31mTypeError\u001b[0m                                 Traceback (most recent call last)",
            "\u001b[0;32m<ipython-input-37-76f1b8c984c4>\u001b[0m in \u001b[0;36m<cell line: 0>\u001b[0;34m()\u001b[0m\n\u001b[0;32m----> 1\u001b[0;31m \u001b[0mops1\u001b[0m \u001b[0;34m=\u001b[0m \u001b[0mListOps\u001b[0m\u001b[0;34m(\u001b[0m\u001b[0;34m)\u001b[0m\u001b[0;34m\u001b[0m\u001b[0;34m\u001b[0m\u001b[0m\n\u001b[0m",
            "\u001b[0;31mTypeError\u001b[0m: ListOps.__init__() missing 1 required positional argument: 'l'"
          ]
        }
      ]
    },
    {
      "cell_type": "code",
      "source": [
        "ops1 = ListOps([1,2,3,4,5])"
      ],
      "metadata": {
        "id": "GsqjtC9oMR60"
      },
      "execution_count": null,
      "outputs": []
    },
    {
      "cell_type": "code",
      "source": [
        "ops1.l"
      ],
      "metadata": {
        "colab": {
          "base_uri": "https://localhost:8080/"
        },
        "id": "kQL29BkVMnXG",
        "outputId": "d4035f4d-cdf5-4e0e-bd03-a2123b65136d"
      },
      "execution_count": null,
      "outputs": [
        {
          "output_type": "execute_result",
          "data": {
            "text/plain": [
              "[1, 2, 3, 4, 5]"
            ]
          },
          "metadata": {},
          "execution_count": 21
        }
      ]
    },
    {
      "cell_type": "code",
      "source": [
        "ops2 = ListOps([1,2,1,30,31,4,5])"
      ],
      "metadata": {
        "id": "fVi5wrKYMpD1"
      },
      "execution_count": null,
      "outputs": []
    },
    {
      "cell_type": "code",
      "source": [
        "ops2.l"
      ],
      "metadata": {
        "id": "zxFC49NJM5Eu",
        "outputId": "9a06246b-abe2-485f-e5bc-d663474671a9",
        "colab": {
          "base_uri": "https://localhost:8080/"
        }
      },
      "execution_count": null,
      "outputs": [
        {
          "output_type": "execute_result",
          "data": {
            "text/plain": [
              "[1, 2, 1, 30, 31, 4, 5]"
            ]
          },
          "metadata": {},
          "execution_count": 23
        }
      ]
    },
    {
      "cell_type": "code",
      "source": [
        "ops1.extract_even()"
      ],
      "metadata": {
        "id": "EtcWDSgAM6NO",
        "colab": {
          "base_uri": "https://localhost:8080/",
          "height": 141
        },
        "outputId": "95bd3eb3-7d52-4f3f-fb41-6d72dfde3240"
      },
      "execution_count": null,
      "outputs": [
        {
          "output_type": "error",
          "ename": "TypeError",
          "evalue": "ListOps.extract_even() missing 1 required positional argument: 'l'",
          "traceback": [
            "\u001b[0;31m---------------------------------------------------------------------------\u001b[0m",
            "\u001b[0;31mTypeError\u001b[0m                                 Traceback (most recent call last)",
            "\u001b[0;32m<ipython-input-25-5f9582e41b37>\u001b[0m in \u001b[0;36m<cell line: 0>\u001b[0;34m()\u001b[0m\n\u001b[0;32m----> 1\u001b[0;31m \u001b[0mops1\u001b[0m\u001b[0;34m.\u001b[0m\u001b[0mextract_even\u001b[0m\u001b[0;34m(\u001b[0m\u001b[0;34m)\u001b[0m\u001b[0;34m\u001b[0m\u001b[0;34m\u001b[0m\u001b[0m\n\u001b[0m",
            "\u001b[0;31mTypeError\u001b[0m: ListOps.extract_even() missing 1 required positional argument: 'l'"
          ]
        }
      ]
    },
    {
      "cell_type": "code",
      "source": [
        "class ListOps:\n",
        "  def __init__(self, l): # magic or dunder method , init means initialisation of variable\n",
        "      self.l = l #if i change self.l into self.l2 everywhere will be chaging the variable\n",
        "\n",
        "  def extract_even(self):\n",
        "    l = self.l\n",
        "    l1 = []\n",
        "    for i in l:\n",
        "      if i%2 == 0:\n",
        "        l1.append(i)\n",
        "    return l1\n",
        "  def extract_odd(self):\n",
        "    l = self.l\n",
        "    l1 = []\n",
        "    for i in l:\n",
        "      if i%2 != 0:\n",
        "        l1.append(i)\n",
        "    return l1"
      ],
      "metadata": {
        "id": "rc61FI3jtQSq"
      },
      "execution_count": null,
      "outputs": []
    },
    {
      "cell_type": "code",
      "source": [
        "ops1 = ListOps([1,2,3,4,5,8])"
      ],
      "metadata": {
        "id": "95o3BLCDts79"
      },
      "execution_count": null,
      "outputs": []
    },
    {
      "cell_type": "code",
      "source": [
        "ops1.extract_odd()"
      ],
      "metadata": {
        "colab": {
          "base_uri": "https://localhost:8080/"
        },
        "id": "ZzHyjz3etxUS",
        "outputId": "2ca6839d-40dd-4b3f-be0b-8fbdc6cc42e9"
      },
      "execution_count": null,
      "outputs": [
        {
          "output_type": "execute_result",
          "data": {
            "text/plain": [
              "[1, 3, 5]"
            ]
          },
          "metadata": {},
          "execution_count": 43
        }
      ]
    },
    {
      "cell_type": "code",
      "source": [
        "ops1.extract_even()"
      ],
      "metadata": {
        "colab": {
          "base_uri": "https://localhost:8080/"
        },
        "id": "FCylqQVut0hl",
        "outputId": "e653c6b8-c288-401e-a8db-e2099ae08cdc"
      },
      "execution_count": null,
      "outputs": [
        {
          "output_type": "execute_result",
          "data": {
            "text/plain": [
              "[2, 4, 8]"
            ]
          },
          "metadata": {},
          "execution_count": 45
        }
      ]
    },
    {
      "cell_type": "code",
      "source": [
        "# multiple Attributes\n",
        "# in a library a book is associated with author , title , name\n",
        "class Book:\n",
        "  def __init__(self, name, author, title):\n",
        "    self.name_of_book = name\n",
        "    self.book_author = author\n",
        "    self.title_name = title\n",
        "\n",
        "  def extract_detail_name_title(self):\n",
        "    print(self.name_of_book , self.title_name)\n",
        "\n",
        "  def extract_detail_name_author(self):\n",
        "    print(self.name_of_book , self.book_author)"
      ],
      "metadata": {
        "id": "AoGn1AP7u-VX"
      },
      "execution_count": 46,
      "outputs": []
    },
    {
      "cell_type": "code",
      "source": [
        "student1 = Book(\"ML\" , \"murphy\" , \"linear regrassion\")"
      ],
      "metadata": {
        "id": "emsBy1O2y6Xb"
      },
      "execution_count": 47,
      "outputs": []
    },
    {
      "cell_type": "code",
      "source": [
        "student1.extract_detail_name_author()"
      ],
      "metadata": {
        "colab": {
          "base_uri": "https://localhost:8080/"
        },
        "id": "O2qqTp2FzG5b",
        "outputId": "acfa26b6-1ae3-457c-888f-45d1d3c5a64c"
      },
      "execution_count": 48,
      "outputs": [
        {
          "output_type": "stream",
          "name": "stdout",
          "text": [
            "ML murphy\n"
          ]
        }
      ]
    },
    {
      "cell_type": "code",
      "source": [
        "student1.extract_detail_name_title()"
      ],
      "metadata": {
        "colab": {
          "base_uri": "https://localhost:8080/"
        },
        "id": "tfDP3eKFzJnU",
        "outputId": "b3605b39-0f16-4c7d-e5e8-8ccf9822825c"
      },
      "execution_count": 49,
      "outputs": [
        {
          "output_type": "stream",
          "name": "stdout",
          "text": [
            "ML linear regrassion\n"
          ]
        }
      ]
    }
  ]
}