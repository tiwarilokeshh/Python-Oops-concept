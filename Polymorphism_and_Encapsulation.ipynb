{
  "nbformat": 4,
  "nbformat_minor": 0,
  "metadata": {
    "colab": {
      "provenance": []
    },
    "kernelspec": {
      "name": "python3",
      "display_name": "Python 3"
    },
    "language_info": {
      "name": "python"
    }
  },
  "cells": [
    {
      "cell_type": "markdown",
      "source": [
        "# ***Polymorphism***\n",
        "\n",
        "> poly means many and morphism means forms/states.\n",
        "\n",
        "> refers to an object taking several forms depending on the methods/data.\n",
        "\n",
        "> same method is taking many forms.\n",
        "\n",
        "\n",
        "\n",
        "\n"
      ],
      "metadata": {
        "id": "J4-slGXlTP5P"
      }
    },
    {
      "cell_type": "code",
      "source": [
        "len(\"lokesh\")"
      ],
      "metadata": {
        "colab": {
          "base_uri": "https://localhost:8080/"
        },
        "id": "hMjjt9aVUUBg",
        "outputId": "e06ebb7e-3e19-4d08-ff10-b0c2e97ad3ed"
      },
      "execution_count": 1,
      "outputs": [
        {
          "output_type": "execute_result",
          "data": {
            "text/plain": [
              "6"
            ]
          },
          "metadata": {},
          "execution_count": 1
        }
      ]
    },
    {
      "cell_type": "code",
      "source": [
        "len([1,2,3,4,5])"
      ],
      "metadata": {
        "colab": {
          "base_uri": "https://localhost:8080/"
        },
        "id": "vK02Q0K6UVu8",
        "outputId": "c46f3d76-a675-447a-80dc-a040cb893041"
      },
      "execution_count": 2,
      "outputs": [
        {
          "output_type": "execute_result",
          "data": {
            "text/plain": [
              "5"
            ]
          },
          "metadata": {},
          "execution_count": 2
        }
      ]
    },
    {
      "cell_type": "code",
      "source": [
        "len((1,2,3))"
      ],
      "metadata": {
        "colab": {
          "base_uri": "https://localhost:8080/"
        },
        "id": "InSgBzKqUYmy",
        "outputId": "4d31356c-13ca-4f6b-a2bf-ff2a94de45d4"
      },
      "execution_count": 3,
      "outputs": [
        {
          "output_type": "execute_result",
          "data": {
            "text/plain": [
              "3"
            ]
          },
          "metadata": {},
          "execution_count": 3
        }
      ]
    },
    {
      "cell_type": "code",
      "source": [
        "def func(a,b):\n",
        "  return a+b"
      ],
      "metadata": {
        "id": "NeKME0IgUbjv"
      },
      "execution_count": 4,
      "outputs": []
    },
    {
      "cell_type": "code",
      "source": [
        "func(2,3) # same + adding 2 no"
      ],
      "metadata": {
        "colab": {
          "base_uri": "https://localhost:8080/"
        },
        "id": "N248Y_nqUu_R",
        "outputId": "4d4a7c9e-bdc0-4b0f-9e02-4f6010947597"
      },
      "execution_count": 5,
      "outputs": [
        {
          "output_type": "execute_result",
          "data": {
            "text/plain": [
              "5"
            ]
          },
          "metadata": {},
          "execution_count": 5
        }
      ]
    },
    {
      "cell_type": "code",
      "source": [
        "func(\"pw\" , \"skills\") # same + combining two string"
      ],
      "metadata": {
        "colab": {
          "base_uri": "https://localhost:8080/",
          "height": 36
        },
        "id": "dduWNKEXUwqD",
        "outputId": "e60706d0-ecba-4a7c-dd49-f0818683c4b3"
      },
      "execution_count": 7,
      "outputs": [
        {
          "output_type": "execute_result",
          "data": {
            "text/plain": [
              "'pwskills'"
            ],
            "application/vnd.google.colaboratory.intrinsic+json": {
              "type": "string"
            }
          },
          "metadata": {},
          "execution_count": 7
        }
      ]
    },
    {
      "cell_type": "code",
      "source": [
        "func([1,2,3] , [4,5,6,]) # the list concetinantion"
      ],
      "metadata": {
        "colab": {
          "base_uri": "https://localhost:8080/"
        },
        "id": "HJ9Y95olU2cE",
        "outputId": "e8effd31-ddea-49c7-f525-30314b0cf2e6"
      },
      "execution_count": 8,
      "outputs": [
        {
          "output_type": "execute_result",
          "data": {
            "text/plain": [
              "[1, 2, 3, 4, 5, 6]"
            ]
          },
          "metadata": {},
          "execution_count": 8
        }
      ]
    },
    {
      "cell_type": "code",
      "source": [
        "# observation >> func is taking diff forms with respect to diff data passed"
      ],
      "metadata": {
        "id": "LAdCILF8VS77"
      },
      "execution_count": null,
      "outputs": []
    },
    {
      "cell_type": "code",
      "source": [
        "# function inside a class is known is method.\n",
        "\n",
        "class Teacher_lecture:\n",
        "  def lec_info(self):\n",
        "    print(\"this is the lec info with teaacher perspective\")\n",
        "\n",
        "class Student_lecture:\n",
        "  def lec_info(self):\n",
        "    print(\"this is lecture info with student perpectuve\")"
      ],
      "metadata": {
        "id": "DveO1yOuVhpa"
      },
      "execution_count": 9,
      "outputs": []
    },
    {
      "cell_type": "code",
      "source": [
        "obj1 = Teacher_lecture()\n",
        "obj2 = Student_lecture()\n",
        "class_obj = [obj1 , obj2]"
      ],
      "metadata": {
        "id": "RNGR9dPDW4-N"
      },
      "execution_count": 10,
      "outputs": []
    },
    {
      "cell_type": "code",
      "source": [
        "def parcer(class_obj):\n",
        "  for i in class_obj:\n",
        "    i.lec_info() # at this time, lec_info is taking two forms wrt teacher and student"
      ],
      "metadata": {
        "id": "Ue32DPz0XHne"
      },
      "execution_count": 11,
      "outputs": []
    },
    {
      "cell_type": "code",
      "source": [
        "parcer(class_obj)"
      ],
      "metadata": {
        "colab": {
          "base_uri": "https://localhost:8080/"
        },
        "id": "b_DbBsI_XioN",
        "outputId": "2350e939-a417-45a7-efbd-27e920201e16"
      },
      "execution_count": 12,
      "outputs": [
        {
          "output_type": "stream",
          "name": "stdout",
          "text": [
            "this is the lec info with teaacher perspective\n",
            "this is lecture info with student perpectuve\n"
          ]
        }
      ]
    },
    {
      "cell_type": "code",
      "source": [
        "# polymorphism >> in oops takes place in two ways:\n",
        "\n",
        "# A function inside a class is known as a method.\n",
        "\n",
        "# Method overloading >> Python doesn't support true method overloading.\n",
        "# Method overriding >> Method overloading in Python means defining multiple\n",
        "# methods with the same name but different parameters.\n",
        "\n",
        "# method overloading happens in the same class"
      ],
      "metadata": {
        "id": "BFRGEdx-XlKk"
      },
      "execution_count": null,
      "outputs": []
    },
    {
      "cell_type": "code",
      "source": [
        "# method overloading"
      ],
      "metadata": {
        "id": "io-1T2IvZl2y"
      },
      "execution_count": 13,
      "outputs": []
    },
    {
      "cell_type": "code",
      "source": [
        "class Student:\n",
        "  def student(self):\n",
        "    print(\"welcome to pwskills class\")\n",
        "\n",
        "  def student(self, name = \"\"):\n",
        "    print(\"welcome to pwskills class\" , name)\n",
        "\n",
        "  def student(self, name = \"\" , course = \"\"):\n",
        "    print(\"welsome to pwskills classs\", name, course)"
      ],
      "metadata": {
        "id": "n3gDEisjZo6f"
      },
      "execution_count": 14,
      "outputs": []
    },
    {
      "cell_type": "code",
      "source": [
        "stu = Student()"
      ],
      "metadata": {
        "id": "RnucW-CaaG2U"
      },
      "execution_count": 15,
      "outputs": []
    },
    {
      "cell_type": "code",
      "source": [
        "stu.student()"
      ],
      "metadata": {
        "colab": {
          "base_uri": "https://localhost:8080/"
        },
        "id": "c3ULRdcaaKGO",
        "outputId": "300783b9-1a52-4bb0-c461-4192dd65390a"
      },
      "execution_count": 16,
      "outputs": [
        {
          "output_type": "stream",
          "name": "stdout",
          "text": [
            "welsome to pwskills classs  \n"
          ]
        }
      ]
    },
    {
      "cell_type": "code",
      "source": [
        "stu.student(\"ajay\")"
      ],
      "metadata": {
        "colab": {
          "base_uri": "https://localhost:8080/"
        },
        "id": "2epEN0araNIE",
        "outputId": "389f5873-3bfa-44d1-eb00-320d88ec5430"
      },
      "execution_count": 17,
      "outputs": [
        {
          "output_type": "stream",
          "name": "stdout",
          "text": [
            "welsome to pwskills classs ajay \n"
          ]
        }
      ]
    },
    {
      "cell_type": "code",
      "source": [
        "stu.student(\"lokesh\", \"data science\")"
      ],
      "metadata": {
        "colab": {
          "base_uri": "https://localhost:8080/"
        },
        "id": "ZGV-SO5EaR4f",
        "outputId": "ad7ac3cd-7edf-4bd7-c2ad-904f079c9a36"
      },
      "execution_count": 18,
      "outputs": [
        {
          "output_type": "stream",
          "name": "stdout",
          "text": [
            "welsome to pwskills classs lokesh data science\n"
          ]
        }
      ]
    },
    {
      "cell_type": "code",
      "source": [
        "# method overloading >> student method is taking different forms , the last\n",
        "# method overload the previous ones in the same class\n",
        "\n",
        "class Student:\n",
        "\n",
        "  def student(self, name = \"\" , course = \"\"):\n",
        "    print(\"welsome to pwskills classs\", name, course)"
      ],
      "metadata": {
        "id": "KWg7Kyy_ao-3"
      },
      "execution_count": 20,
      "outputs": []
    },
    {
      "cell_type": "code",
      "source": [
        "stud = Student()"
      ],
      "metadata": {
        "id": "9whAqRw4a48u"
      },
      "execution_count": 21,
      "outputs": []
    },
    {
      "cell_type": "code",
      "source": [
        "stud.student()"
      ],
      "metadata": {
        "colab": {
          "base_uri": "https://localhost:8080/"
        },
        "id": "yTc6-zmBbXcH",
        "outputId": "5d9ae357-7841-4d72-d9c2-b0ad3d9a0001"
      },
      "execution_count": 22,
      "outputs": [
        {
          "output_type": "stream",
          "name": "stdout",
          "text": [
            "welsome to pwskills classs  \n"
          ]
        }
      ]
    },
    {
      "cell_type": "code",
      "source": [
        "stud.student(\"lokesh\")"
      ],
      "metadata": {
        "colab": {
          "base_uri": "https://localhost:8080/"
        },
        "id": "SIjXrjoFbZ8X",
        "outputId": "2f5d3fb1-8a24-407e-99f7-caa40f5a8351"
      },
      "execution_count": 23,
      "outputs": [
        {
          "output_type": "stream",
          "name": "stdout",
          "text": [
            "welsome to pwskills classs lokesh \n"
          ]
        }
      ]
    },
    {
      "cell_type": "code",
      "source": [
        "stud.student(\"lokesh\" , \"pwskills\")"
      ],
      "metadata": {
        "colab": {
          "base_uri": "https://localhost:8080/"
        },
        "id": "MQAulctGbbz-",
        "outputId": "aa9f414f-47e7-4f93-8faf-ceffac125541"
      },
      "execution_count": 24,
      "outputs": [
        {
          "output_type": "stream",
          "name": "stdout",
          "text": [
            "welsome to pwskills classs lokesh pwskills\n"
          ]
        }
      ]
    },
    {
      "cell_type": "code",
      "source": [
        "# method overriding >> method in parent class and child class with same\n",
        "# signature , the child class method will be executed.\n",
        "\n",
        "# child class is most powerfull"
      ],
      "metadata": {
        "id": "FkHWhyuZbefC"
      },
      "execution_count": null,
      "outputs": []
    },
    {
      "cell_type": "code",
      "source": [
        "class Animal:\n",
        "  def sound(self):\n",
        "    print(\"animal sound\")\n",
        "\n",
        "class Cat(Animal):\n",
        "  def sound(self):\n",
        "    print(\"cat meows\")"
      ],
      "metadata": {
        "id": "05nk-5-KcrrQ"
      },
      "execution_count": 25,
      "outputs": []
    },
    {
      "cell_type": "code",
      "source": [
        "obj1 = Animal()"
      ],
      "metadata": {
        "id": "I0TOHnl7c4fv"
      },
      "execution_count": 26,
      "outputs": []
    },
    {
      "cell_type": "code",
      "source": [
        "obj1.sound()"
      ],
      "metadata": {
        "colab": {
          "base_uri": "https://localhost:8080/"
        },
        "id": "Dc5jqLeEc6Nj",
        "outputId": "13afa67b-5248-483a-bc99-e8e885cb0ffb"
      },
      "execution_count": 27,
      "outputs": [
        {
          "output_type": "stream",
          "name": "stdout",
          "text": [
            "animal sound\n"
          ]
        }
      ]
    },
    {
      "cell_type": "code",
      "source": [
        "obj2 = Cat()"
      ],
      "metadata": {
        "id": "Ll0McdHRc9-j"
      },
      "execution_count": 28,
      "outputs": []
    },
    {
      "cell_type": "code",
      "source": [
        "obj2.sound()"
      ],
      "metadata": {
        "colab": {
          "base_uri": "https://localhost:8080/"
        },
        "id": "hIKyM8otdDOQ",
        "outputId": "5d6d7470-47d9-45a7-bfcb-a9ce57c8262a"
      },
      "execution_count": 29,
      "outputs": [
        {
          "output_type": "stream",
          "name": "stdout",
          "text": [
            "cat meows\n"
          ]
        }
      ]
    },
    {
      "cell_type": "markdown",
      "source": [
        "# ***Encapsulation***\n",
        "\n",
        "> means hiding something.\n",
        "\n",
        "> bundling of data and methods of a class.\n",
        "\n",
        "> Access modifier   >> public , protected , private\n",
        "\n",
        "\n",
        "\n",
        "\n",
        "\n"
      ],
      "metadata": {
        "id": "rT36APKqdwLj"
      }
    },
    {
      "cell_type": "code",
      "source": [
        "# Here we will take the data, so we use init.\n",
        "\n",
        "#public >> accessible from anywhere from outside / inside of class.\n",
        "\n",
        "class Student:\n",
        "  def __init__(self, name , age):\n",
        "    self.name = name\n",
        "    self.age = age"
      ],
      "metadata": {
        "id": "BHws2FgXeQWc"
      },
      "execution_count": 30,
      "outputs": []
    },
    {
      "cell_type": "code",
      "source": [
        "student1 = Student(\"lokesh\" , 18)"
      ],
      "metadata": {
        "id": "eU3KKiU0fPi9"
      },
      "execution_count": 37,
      "outputs": []
    },
    {
      "cell_type": "code",
      "source": [
        "student1.name"
      ],
      "metadata": {
        "colab": {
          "base_uri": "https://localhost:8080/",
          "height": 36
        },
        "id": "OEGO2y6LfSVm",
        "outputId": "a2dcab7c-950c-4251-909a-00e0853c172f"
      },
      "execution_count": 38,
      "outputs": [
        {
          "output_type": "execute_result",
          "data": {
            "text/plain": [
              "'lokesh'"
            ],
            "application/vnd.google.colaboratory.intrinsic+json": {
              "type": "string"
            }
          },
          "metadata": {},
          "execution_count": 38
        }
      ]
    },
    {
      "cell_type": "code",
      "source": [
        "student1.age"
      ],
      "metadata": {
        "colab": {
          "base_uri": "https://localhost:8080/"
        },
        "id": "jVjxqw_ZfuEC",
        "outputId": "a5c8e684-912c-4445-eee3-c6775f039604"
      },
      "execution_count": 39,
      "outputs": [
        {
          "output_type": "execute_result",
          "data": {
            "text/plain": [
              "18"
            ]
          },
          "metadata": {},
          "execution_count": 39
        }
      ]
    },
    {
      "cell_type": "code",
      "source": [
        "student2 = Student(\"ajay\" , 19)"
      ],
      "metadata": {
        "id": "t_KxsFA2fvLQ"
      },
      "execution_count": 40,
      "outputs": []
    },
    {
      "cell_type": "code",
      "source": [
        "student2.name"
      ],
      "metadata": {
        "colab": {
          "base_uri": "https://localhost:8080/",
          "height": 36
        },
        "id": "hKwLSA7Cf20M",
        "outputId": "71e4644d-18e1-4399-fec0-eaa714d8e816"
      },
      "execution_count": 41,
      "outputs": [
        {
          "output_type": "execute_result",
          "data": {
            "text/plain": [
              "'ajay'"
            ],
            "application/vnd.google.colaboratory.intrinsic+json": {
              "type": "string"
            }
          },
          "metadata": {},
          "execution_count": 41
        }
      ]
    },
    {
      "cell_type": "code",
      "source": [
        "student2.age"
      ],
      "metadata": {
        "colab": {
          "base_uri": "https://localhost:8080/"
        },
        "id": "UmgQKF65f4Y5",
        "outputId": "d436e1f1-e1f7-413e-e5b2-d717a2e394f8"
      },
      "execution_count": 42,
      "outputs": [
        {
          "output_type": "execute_result",
          "data": {
            "text/plain": [
              "19"
            ]
          },
          "metadata": {},
          "execution_count": 42
        }
      ]
    },
    {
      "cell_type": "code",
      "source": [
        "student2.age = 20"
      ],
      "metadata": {
        "id": "JUR0a2vxf6Pd"
      },
      "execution_count": 43,
      "outputs": []
    },
    {
      "cell_type": "code",
      "source": [
        "student2.age"
      ],
      "metadata": {
        "colab": {
          "base_uri": "https://localhost:8080/"
        },
        "id": "bMtPqNu7gSst",
        "outputId": "0e380b93-2184-4f02-cc8b-6c052bf7fce0"
      },
      "execution_count": 44,
      "outputs": [
        {
          "output_type": "execute_result",
          "data": {
            "text/plain": [
              "20"
            ]
          },
          "metadata": {},
          "execution_count": 44
        }
      ]
    },
    {
      "cell_type": "code",
      "source": [
        "student2.name = \"vijay\""
      ],
      "metadata": {
        "id": "mijW9i1qgYbA"
      },
      "execution_count": 45,
      "outputs": []
    },
    {
      "cell_type": "code",
      "source": [
        "student2.name"
      ],
      "metadata": {
        "colab": {
          "base_uri": "https://localhost:8080/",
          "height": 36
        },
        "id": "MYW9iCq0gisM",
        "outputId": "7be33942-5cf7-4bb8-f4f7-f01d84680d85"
      },
      "execution_count": 46,
      "outputs": [
        {
          "output_type": "execute_result",
          "data": {
            "text/plain": [
              "'vijay'"
            ],
            "application/vnd.google.colaboratory.intrinsic+json": {
              "type": "string"
            }
          },
          "metadata": {},
          "execution_count": 46
        }
      ]
    },
    {
      "cell_type": "code",
      "source": [
        "# private >> the data and method is only accessible within its class , use __ to\n",
        "# make private"
      ],
      "metadata": {
        "id": "PIrYJeGvgkRt"
      },
      "execution_count": null,
      "outputs": []
    },
    {
      "cell_type": "code",
      "source": [
        "# accessing the public data member inside the other method of same class\n",
        "\n",
        "class Student:\n",
        "  def __init__(self, name , age):\n",
        "    self.name = name\n",
        "    self.age = age\n",
        "\n",
        "  def show(self):\n",
        "    # accessing the private and public data member\n",
        "    print(\"name\" , self.name ,'age' , self.age)\n",
        ""
      ],
      "metadata": {
        "id": "XsCdsh6BhYkT"
      },
      "execution_count": 48,
      "outputs": []
    },
    {
      "cell_type": "code",
      "source": [
        "stu = Student(\"lokesh\" , 18)"
      ],
      "metadata": {
        "id": "8ZNUuz2Rhp-Q"
      },
      "execution_count": 49,
      "outputs": []
    },
    {
      "cell_type": "code",
      "source": [
        "stu.show()"
      ],
      "metadata": {
        "colab": {
          "base_uri": "https://localhost:8080/"
        },
        "id": "nGe8ISx_iXEd",
        "outputId": "ad7b2937-8470-44dc-9d9d-e6244d8db68e"
      },
      "execution_count": 50,
      "outputs": [
        {
          "output_type": "stream",
          "name": "stdout",
          "text": [
            "name lokesh age 18\n"
          ]
        }
      ]
    },
    {
      "cell_type": "code",
      "source": [
        "stu.name"
      ],
      "metadata": {
        "colab": {
          "base_uri": "https://localhost:8080/",
          "height": 36
        },
        "id": "cQeDKRETitiF",
        "outputId": "0ab551bb-9bfb-46b0-e343-a7fafa70301d"
      },
      "execution_count": 52,
      "outputs": [
        {
          "output_type": "execute_result",
          "data": {
            "text/plain": [
              "'lokesh'"
            ],
            "application/vnd.google.colaboratory.intrinsic+json": {
              "type": "string"
            }
          },
          "metadata": {},
          "execution_count": 52
        }
      ]
    },
    {
      "cell_type": "code",
      "source": [
        "# here data private\n",
        "\n",
        "class Student:\n",
        "  def __init__(self, name , age):\n",
        "    self.name = name\n",
        "    self.__age = age\n",
        "\n",
        "  def show(self):\n",
        "    # accessing the private and public data member\n",
        "    print(\"name\" , self.name ,'age' , self.__age)"
      ],
      "metadata": {
        "id": "6ukTLoBFjOw0"
      },
      "execution_count": 53,
      "outputs": []
    },
    {
      "cell_type": "code",
      "source": [
        "stu = Student(\"lokesh\" , 20)"
      ],
      "metadata": {
        "id": "ADYsic5ujdFp"
      },
      "execution_count": 55,
      "outputs": []
    },
    {
      "cell_type": "code",
      "source": [
        "stu.name"
      ],
      "metadata": {
        "colab": {
          "base_uri": "https://localhost:8080/",
          "height": 36
        },
        "id": "D0keIxfWjfl6",
        "outputId": "27d839fb-34ed-431c-cf5a-3f22c2377cb6"
      },
      "execution_count": 56,
      "outputs": [
        {
          "output_type": "execute_result",
          "data": {
            "text/plain": [
              "'lokesh'"
            ],
            "application/vnd.google.colaboratory.intrinsic+json": {
              "type": "string"
            }
          },
          "metadata": {},
          "execution_count": 56
        }
      ]
    },
    {
      "cell_type": "code",
      "source": [
        "stu.show()"
      ],
      "metadata": {
        "colab": {
          "base_uri": "https://localhost:8080/"
        },
        "id": "tZzb4TBdjlb9",
        "outputId": "284387e5-d490-42c9-b87f-0730fedd5896"
      },
      "execution_count": 59,
      "outputs": [
        {
          "output_type": "stream",
          "name": "stdout",
          "text": [
            "name lokesh age 20\n"
          ]
        }
      ]
    },
    {
      "cell_type": "code",
      "source": [
        "stu.age # private you can not access , throw an error."
      ],
      "metadata": {
        "colab": {
          "base_uri": "https://localhost:8080/",
          "height": 141
        },
        "id": "s2HCKEVwjmgm",
        "outputId": "92ae9d8a-8122-4d01-fb0c-6a2c369b12ef"
      },
      "execution_count": 58,
      "outputs": [
        {
          "output_type": "error",
          "ename": "AttributeError",
          "evalue": "'Student' object has no attribute 'age'",
          "traceback": [
            "\u001b[0;31m---------------------------------------------------------------------------\u001b[0m",
            "\u001b[0;31mAttributeError\u001b[0m                            Traceback (most recent call last)",
            "\u001b[0;32m<ipython-input-58-775b3bdf6b97>\u001b[0m in \u001b[0;36m<cell line: 0>\u001b[0;34m()\u001b[0m\n\u001b[0;32m----> 1\u001b[0;31m \u001b[0mstu\u001b[0m\u001b[0;34m.\u001b[0m\u001b[0mage\u001b[0m\u001b[0;34m\u001b[0m\u001b[0;34m\u001b[0m\u001b[0m\n\u001b[0m",
            "\u001b[0;31mAttributeError\u001b[0m: 'Student' object has no attribute 'age'"
          ]
        }
      ]
    },
    {
      "cell_type": "code",
      "source": [
        "stu.__age"
      ],
      "metadata": {
        "colab": {
          "base_uri": "https://localhost:8080/",
          "height": 141
        },
        "id": "Oed617cEjoQJ",
        "outputId": "32f5e912-14ac-45c7-b3ea-bdd0a84f019c"
      },
      "execution_count": 60,
      "outputs": [
        {
          "output_type": "error",
          "ename": "AttributeError",
          "evalue": "'Student' object has no attribute '__age'",
          "traceback": [
            "\u001b[0;31m---------------------------------------------------------------------------\u001b[0m",
            "\u001b[0;31mAttributeError\u001b[0m                            Traceback (most recent call last)",
            "\u001b[0;32m<ipython-input-60-c60b50395c0e>\u001b[0m in \u001b[0;36m<cell line: 0>\u001b[0;34m()\u001b[0m\n\u001b[0;32m----> 1\u001b[0;31m \u001b[0mstu\u001b[0m\u001b[0;34m.\u001b[0m\u001b[0m__age\u001b[0m\u001b[0;34m\u001b[0m\u001b[0;34m\u001b[0m\u001b[0m\n\u001b[0m",
            "\u001b[0;31mAttributeError\u001b[0m: 'Student' object has no attribute '__age'"
          ]
        }
      ]
    },
    {
      "cell_type": "code",
      "source": [
        "stu.age = 22"
      ],
      "metadata": {
        "id": "xQq7wFKokBFb"
      },
      "execution_count": 61,
      "outputs": []
    },
    {
      "cell_type": "code",
      "source": [
        "stu.show()"
      ],
      "metadata": {
        "colab": {
          "base_uri": "https://localhost:8080/"
        },
        "id": "853ab2jqkX4l",
        "outputId": "607e3ae0-afb6-4153-ebc2-d598de130a5d"
      },
      "execution_count": 62,
      "outputs": [
        {
          "output_type": "stream",
          "name": "stdout",
          "text": [
            "name lokesh age 20\n"
          ]
        }
      ]
    },
    {
      "cell_type": "code",
      "source": [
        "stu._Student__age # you want to access the private variables"
      ],
      "metadata": {
        "colab": {
          "base_uri": "https://localhost:8080/"
        },
        "id": "U4hzVFzBkZ3k",
        "outputId": "570fa387-bf93-4e50-c200-0f007f0c3fdb"
      },
      "execution_count": 63,
      "outputs": [
        {
          "output_type": "execute_result",
          "data": {
            "text/plain": [
              "20"
            ]
          },
          "metadata": {},
          "execution_count": 63
        }
      ]
    },
    {
      "cell_type": "code",
      "source": [
        "# now data private\n",
        "\n",
        "class Student:\n",
        "  def __init__(self, name , age):\n",
        "    self.name = name\n",
        "    self.__age = age\n",
        "\n",
        "  def show(self):\n",
        "    # accessing the private and public data member\n",
        "    print(\"name\" , self.name ,'age' , self.__age)\n",
        "\n",
        "  def __private_method(self):\n",
        "    print(\"this is a private method\")"
      ],
      "metadata": {
        "id": "sQdwCdnAk_Dp"
      },
      "execution_count": 64,
      "outputs": []
    },
    {
      "cell_type": "code",
      "source": [
        "stud = Student(\"lokesh\",24)"
      ],
      "metadata": {
        "id": "Az3MGaM5liQD"
      },
      "execution_count": 67,
      "outputs": []
    },
    {
      "cell_type": "code",
      "source": [
        "stud.name"
      ],
      "metadata": {
        "colab": {
          "base_uri": "https://localhost:8080/",
          "height": 36
        },
        "id": "cwQzIJvnlkLa",
        "outputId": "dba538aa-bdf7-42f3-ddc6-e0c62b99d0de"
      },
      "execution_count": 68,
      "outputs": [
        {
          "output_type": "execute_result",
          "data": {
            "text/plain": [
              "'lokesh'"
            ],
            "application/vnd.google.colaboratory.intrinsic+json": {
              "type": "string"
            }
          },
          "metadata": {},
          "execution_count": 68
        }
      ]
    },
    {
      "cell_type": "code",
      "source": [
        "stud.show()"
      ],
      "metadata": {
        "colab": {
          "base_uri": "https://localhost:8080/"
        },
        "id": "fcPis_RLltg-",
        "outputId": "73aa52c9-4f63-4417-b49c-d623a174b49d"
      },
      "execution_count": 69,
      "outputs": [
        {
          "output_type": "stream",
          "name": "stdout",
          "text": [
            "name lokesh age 24\n"
          ]
        }
      ]
    },
    {
      "cell_type": "code",
      "source": [
        "stud.private_method() # private"
      ],
      "metadata": {
        "colab": {
          "base_uri": "https://localhost:8080/",
          "height": 141
        },
        "id": "8n06FqnhlvA8",
        "outputId": "0d1d4d7a-8774-4654-adac-c7173ec271b5"
      },
      "execution_count": 70,
      "outputs": [
        {
          "output_type": "error",
          "ename": "AttributeError",
          "evalue": "'Student' object has no attribute 'private_method'",
          "traceback": [
            "\u001b[0;31m---------------------------------------------------------------------------\u001b[0m",
            "\u001b[0;31mAttributeError\u001b[0m                            Traceback (most recent call last)",
            "\u001b[0;32m<ipython-input-70-034b8e98225c>\u001b[0m in \u001b[0;36m<cell line: 0>\u001b[0;34m()\u001b[0m\n\u001b[0;32m----> 1\u001b[0;31m \u001b[0mstud\u001b[0m\u001b[0;34m.\u001b[0m\u001b[0mprivate_method\u001b[0m\u001b[0;34m(\u001b[0m\u001b[0;34m)\u001b[0m\u001b[0;34m\u001b[0m\u001b[0;34m\u001b[0m\u001b[0m\n\u001b[0m",
            "\u001b[0;31mAttributeError\u001b[0m: 'Student' object has no attribute 'private_method'"
          ]
        }
      ]
    },
    {
      "cell_type": "code",
      "source": [
        "stud.__private_method()"
      ],
      "metadata": {
        "colab": {
          "base_uri": "https://localhost:8080/",
          "height": 141
        },
        "id": "TH8W-dJclyRd",
        "outputId": "401113d7-60c7-4fef-9f8f-45c5d1818a2f"
      },
      "execution_count": 71,
      "outputs": [
        {
          "output_type": "error",
          "ename": "AttributeError",
          "evalue": "'Student' object has no attribute '__private_method'",
          "traceback": [
            "\u001b[0;31m---------------------------------------------------------------------------\u001b[0m",
            "\u001b[0;31mAttributeError\u001b[0m                            Traceback (most recent call last)",
            "\u001b[0;32m<ipython-input-71-fea7d5892665>\u001b[0m in \u001b[0;36m<cell line: 0>\u001b[0;34m()\u001b[0m\n\u001b[0;32m----> 1\u001b[0;31m \u001b[0mstud\u001b[0m\u001b[0;34m.\u001b[0m\u001b[0m__private_method\u001b[0m\u001b[0;34m(\u001b[0m\u001b[0;34m)\u001b[0m\u001b[0;34m\u001b[0m\u001b[0;34m\u001b[0m\u001b[0m\n\u001b[0m",
            "\u001b[0;31mAttributeError\u001b[0m: 'Student' object has no attribute '__private_method'"
          ]
        }
      ]
    },
    {
      "cell_type": "code",
      "source": [
        "stud._Student__private_method() #accessing private method"
      ],
      "metadata": {
        "colab": {
          "base_uri": "https://localhost:8080/"
        },
        "id": "GqRlt1m2mAts",
        "outputId": "39de99b9-dfb9-487d-9ca0-14edba74c9e3"
      },
      "execution_count": 73,
      "outputs": [
        {
          "output_type": "stream",
          "name": "stdout",
          "text": [
            "this is a private method\n"
          ]
        }
      ]
    },
    {
      "cell_type": "code",
      "source": [
        "# way to provide an option to see the private method >> a wrapper\n",
        "\n",
        "\n",
        "class Student:\n",
        "  def __init__(self, name , age):\n",
        "    self.name = name\n",
        "    self.__age = age\n",
        "\n",
        "  def show(self):\n",
        "    # accessing the private and public data member\n",
        "    print(\"name\" , self.name ,'age' , self.__age)\n",
        "\n",
        "  def __private_method(self):\n",
        "    print(\"this is a private method\")\n",
        "  def access_private_method(self):\n",
        "    self.__private_method()\n"
      ],
      "metadata": {
        "id": "AOsjyV0dmF_1"
      },
      "execution_count": 74,
      "outputs": []
    },
    {
      "cell_type": "code",
      "source": [
        "obj1 = Student(\"lokesh\" , 25)\n",
        "obj1.access_private_method()"
      ],
      "metadata": {
        "colab": {
          "base_uri": "https://localhost:8080/"
        },
        "id": "Emv8nLdbnh1d",
        "outputId": "211dbd69-5121-4275-82db-e9f9d0400517"
      },
      "execution_count": 75,
      "outputs": [
        {
          "output_type": "stream",
          "name": "stdout",
          "text": [
            "this is a private method\n"
          ]
        }
      ]
    },
    {
      "cell_type": "code",
      "source": [
        "# another use case of modifying the private variable\n",
        "\n",
        "class Car:\n",
        "  def __init__(self,year,make,model,speed):\n",
        "    self.__year = year\n",
        "    self.__make = make\n",
        "    self.__model = model\n",
        "    self.__speed = speed"
      ],
      "metadata": {
        "id": "x5VQJuIknp1r"
      },
      "execution_count": 76,
      "outputs": []
    },
    {
      "cell_type": "code",
      "source": [
        "c1 = Car(2021 , \"toyata\" , \"innova\" , 250)\n",
        "c1.year"
      ],
      "metadata": {
        "colab": {
          "base_uri": "https://localhost:8080/",
          "height": 158
        },
        "id": "2Y8cguU0oPg_",
        "outputId": "5cfdc53c-6799-49e5-8288-6909d11717b7"
      },
      "execution_count": 77,
      "outputs": [
        {
          "output_type": "error",
          "ename": "AttributeError",
          "evalue": "'Car' object has no attribute 'year'",
          "traceback": [
            "\u001b[0;31m---------------------------------------------------------------------------\u001b[0m",
            "\u001b[0;31mAttributeError\u001b[0m                            Traceback (most recent call last)",
            "\u001b[0;32m<ipython-input-77-1597d6546646>\u001b[0m in \u001b[0;36m<cell line: 0>\u001b[0;34m()\u001b[0m\n\u001b[1;32m      1\u001b[0m \u001b[0mc1\u001b[0m \u001b[0;34m=\u001b[0m \u001b[0mCar\u001b[0m\u001b[0;34m(\u001b[0m\u001b[0;36m2021\u001b[0m \u001b[0;34m,\u001b[0m \u001b[0;34m\"toyata\"\u001b[0m \u001b[0;34m,\u001b[0m \u001b[0;34m\"innova\"\u001b[0m \u001b[0;34m,\u001b[0m \u001b[0;36m250\u001b[0m\u001b[0;34m)\u001b[0m\u001b[0;34m\u001b[0m\u001b[0;34m\u001b[0m\u001b[0m\n\u001b[0;32m----> 2\u001b[0;31m \u001b[0mc1\u001b[0m\u001b[0;34m.\u001b[0m\u001b[0myear\u001b[0m\u001b[0;34m\u001b[0m\u001b[0;34m\u001b[0m\u001b[0m\n\u001b[0m",
            "\u001b[0;31mAttributeError\u001b[0m: 'Car' object has no attribute 'year'"
          ]
        }
      ]
    },
    {
      "cell_type": "code",
      "source": [
        "c1.make"
      ],
      "metadata": {
        "colab": {
          "base_uri": "https://localhost:8080/",
          "height": 141
        },
        "id": "17H8RmpbodRh",
        "outputId": "3cff163c-58ed-4f31-b6c1-5439b3f1a113"
      },
      "execution_count": 78,
      "outputs": [
        {
          "output_type": "error",
          "ename": "AttributeError",
          "evalue": "'Car' object has no attribute 'make'",
          "traceback": [
            "\u001b[0;31m---------------------------------------------------------------------------\u001b[0m",
            "\u001b[0;31mAttributeError\u001b[0m                            Traceback (most recent call last)",
            "\u001b[0;32m<ipython-input-78-b2871454e34c>\u001b[0m in \u001b[0;36m<cell line: 0>\u001b[0;34m()\u001b[0m\n\u001b[0;32m----> 1\u001b[0;31m \u001b[0mc1\u001b[0m\u001b[0;34m.\u001b[0m\u001b[0mmake\u001b[0m\u001b[0;34m\u001b[0m\u001b[0;34m\u001b[0m\u001b[0m\n\u001b[0m",
            "\u001b[0;31mAttributeError\u001b[0m: 'Car' object has no attribute 'make'"
          ]
        }
      ]
    },
    {
      "cell_type": "code",
      "source": [
        "c1.__year"
      ],
      "metadata": {
        "colab": {
          "base_uri": "https://localhost:8080/",
          "height": 141
        },
        "id": "EscS3sW-oe0i",
        "outputId": "6acc995b-c85d-433f-e643-875f265cc41b"
      },
      "execution_count": 79,
      "outputs": [
        {
          "output_type": "error",
          "ename": "AttributeError",
          "evalue": "'Car' object has no attribute '__year'",
          "traceback": [
            "\u001b[0;31m---------------------------------------------------------------------------\u001b[0m",
            "\u001b[0;31mAttributeError\u001b[0m                            Traceback (most recent call last)",
            "\u001b[0;32m<ipython-input-79-a161f83debdb>\u001b[0m in \u001b[0;36m<cell line: 0>\u001b[0;34m()\u001b[0m\n\u001b[0;32m----> 1\u001b[0;31m \u001b[0mc1\u001b[0m\u001b[0;34m.\u001b[0m\u001b[0m__year\u001b[0m\u001b[0;34m\u001b[0m\u001b[0;34m\u001b[0m\u001b[0m\n\u001b[0m",
            "\u001b[0;31mAttributeError\u001b[0m: 'Car' object has no attribute '__year'"
          ]
        }
      ]
    },
    {
      "cell_type": "code",
      "source": [
        "\n",
        "class Car:\n",
        "  def __init__(self,year,make,model,speed):\n",
        "    self.__year = year\n",
        "    self.__make = make\n",
        "    self.__model = model\n",
        "    self.__speed = speed\n",
        "\n",
        "  def set_speed(self,speed):\n",
        "    self.__speed = 0 if speed < 0 else speed\n",
        "  def get_speed(self):\n",
        "    return self.__speed"
      ],
      "metadata": {
        "id": "XJlpGVftohK-"
      },
      "execution_count": 80,
      "outputs": []
    },
    {
      "cell_type": "code",
      "source": [
        "c1 = Car(2021 , \"toyata\" , \"innova\" , 250)\n",
        "c1.get_speed()"
      ],
      "metadata": {
        "colab": {
          "base_uri": "https://localhost:8080/"
        },
        "id": "F1AIDgO8pJmb",
        "outputId": "67c2a4e6-75e2-4053-9de5-0ec329b0b17e"
      },
      "execution_count": 81,
      "outputs": [
        {
          "output_type": "execute_result",
          "data": {
            "text/plain": [
              "250"
            ]
          },
          "metadata": {},
          "execution_count": 81
        }
      ]
    },
    {
      "cell_type": "code",
      "source": [
        "c1.set_speed(350)"
      ],
      "metadata": {
        "id": "DwDZDHmopNSu"
      },
      "execution_count": 82,
      "outputs": []
    },
    {
      "cell_type": "code",
      "source": [
        "c1.get_speed()"
      ],
      "metadata": {
        "colab": {
          "base_uri": "https://localhost:8080/"
        },
        "id": "uNYlyuQEpQbA",
        "outputId": "fc296544-e930-4c2e-d15f-5cb9fd97740c"
      },
      "execution_count": 83,
      "outputs": [
        {
          "output_type": "execute_result",
          "data": {
            "text/plain": [
              "350"
            ]
          },
          "metadata": {},
          "execution_count": 83
        }
      ]
    },
    {
      "cell_type": "code",
      "source": [
        "c1.set_speed(-250)"
      ],
      "metadata": {
        "id": "2LXnRtSvpSdH"
      },
      "execution_count": 84,
      "outputs": []
    },
    {
      "cell_type": "code",
      "source": [
        "c1.get_speed()"
      ],
      "metadata": {
        "colab": {
          "base_uri": "https://localhost:8080/"
        },
        "id": "QsSdFFYOpVYG",
        "outputId": "4eab2ff5-9d42-4933-90bc-d75b5f7c496d"
      },
      "execution_count": 85,
      "outputs": [
        {
          "output_type": "execute_result",
          "data": {
            "text/plain": [
              "0"
            ]
          },
          "metadata": {},
          "execution_count": 85
        }
      ]
    },
    {
      "cell_type": "code",
      "source": [
        "# another use case\n",
        "\n",
        "class Bank_account:\n",
        "  def __init__(self , balance):\n",
        "    self.__balance = balance\n",
        "\n",
        "  def deposit(self,amount):\n",
        "      self.__balance = self.__balance + amount\n",
        "\n",
        "  def withdraw(self, amount):\n",
        "    if self.__balance >= amount:\n",
        "      self.__balance = self.__balance - amount\n",
        "      return True\n",
        "    else:\n",
        "      return False\n",
        "\n",
        "  def get_balance(self):\n",
        "    return self.__balance\n"
      ],
      "metadata": {
        "id": "cosKvZtxpYNv"
      },
      "execution_count": 89,
      "outputs": []
    },
    {
      "cell_type": "code",
      "source": [
        "acc1 = Bank_account(1000)"
      ],
      "metadata": {
        "id": "xGzqsSjYqkFX"
      },
      "execution_count": 92,
      "outputs": []
    },
    {
      "cell_type": "code",
      "source": [
        "acc1.get_balance()"
      ],
      "metadata": {
        "colab": {
          "base_uri": "https://localhost:8080/"
        },
        "id": "_Kh3TVoDqsOm",
        "outputId": "2617d3c6-ecc5-4d21-a077-90dd5f9d1209"
      },
      "execution_count": 93,
      "outputs": [
        {
          "output_type": "execute_result",
          "data": {
            "text/plain": [
              "1000"
            ]
          },
          "metadata": {},
          "execution_count": 93
        }
      ]
    },
    {
      "cell_type": "code",
      "source": [
        "acc1.deposit(500)"
      ],
      "metadata": {
        "id": "mhiwdLPBqy1O"
      },
      "execution_count": 94,
      "outputs": []
    },
    {
      "cell_type": "code",
      "source": [
        "acc1.get_balance()"
      ],
      "metadata": {
        "colab": {
          "base_uri": "https://localhost:8080/"
        },
        "id": "iazJPYR3q4Vz",
        "outputId": "f1fd890e-827e-450e-9f1e-cc622d7c9482"
      },
      "execution_count": 95,
      "outputs": [
        {
          "output_type": "execute_result",
          "data": {
            "text/plain": [
              "1500"
            ]
          },
          "metadata": {},
          "execution_count": 95
        }
      ]
    },
    {
      "cell_type": "code",
      "source": [
        "acc1.withdraw(1000)"
      ],
      "metadata": {
        "colab": {
          "base_uri": "https://localhost:8080/"
        },
        "id": "0IRs46KCq6PU",
        "outputId": "9cc046e9-ad1d-4f0a-869f-6bf2539945fe"
      },
      "execution_count": 96,
      "outputs": [
        {
          "output_type": "execute_result",
          "data": {
            "text/plain": [
              "True"
            ]
          },
          "metadata": {},
          "execution_count": 96
        }
      ]
    },
    {
      "cell_type": "code",
      "source": [
        "acc1.get_balance()"
      ],
      "metadata": {
        "colab": {
          "base_uri": "https://localhost:8080/"
        },
        "id": "JJAHcaZVq9Zd",
        "outputId": "aabb7fe3-0955-4648-caf5-69289002f33b"
      },
      "execution_count": 97,
      "outputs": [
        {
          "output_type": "execute_result",
          "data": {
            "text/plain": [
              "500"
            ]
          },
          "metadata": {},
          "execution_count": 97
        }
      ]
    },
    {
      "cell_type": "code",
      "source": [
        "acc1.withdraw(600)"
      ],
      "metadata": {
        "colab": {
          "base_uri": "https://localhost:8080/"
        },
        "id": "o39to0Y-q_WV",
        "outputId": "275b9581-7868-4aae-a974-67c4c8fb6708"
      },
      "execution_count": 98,
      "outputs": [
        {
          "output_type": "execute_result",
          "data": {
            "text/plain": [
              "False"
            ]
          },
          "metadata": {},
          "execution_count": 98
        }
      ]
    },
    {
      "cell_type": "code",
      "source": [
        "acc1.get_balance()"
      ],
      "metadata": {
        "colab": {
          "base_uri": "https://localhost:8080/"
        },
        "id": "y0S9YsPQrBpa",
        "outputId": "d1213a43-77c0-4a99-9b3e-bca88a93d715"
      },
      "execution_count": 99,
      "outputs": [
        {
          "output_type": "execute_result",
          "data": {
            "text/plain": [
              "500"
            ]
          },
          "metadata": {},
          "execution_count": 99
        }
      ]
    },
    {
      "cell_type": "code",
      "source": [
        "# protected >> within the class and its subclass , protected member can be accessed . (_) > use\n",
        "# you dont use protected varibale much ."
      ],
      "metadata": {
        "id": "eTK9x0MBrFI5"
      },
      "execution_count": null,
      "outputs": []
    },
    {
      "cell_type": "code",
      "source": [
        "\n",
        "class College:\n",
        "  def __init__(self):\n",
        "    self._college_name = \"pwskills\"\n",
        "\n",
        "class Student(College):\n",
        "  def __init__(self,name):\n",
        "    self.name = name\n",
        "    College.__init__(self) # accessing variable using base class\n",
        "\n",
        "  def show(self):\n",
        "    print(\"name\", self.name , \"college\",  self._college_name) # directly call the baseclass using one unnderscore\n"
      ],
      "metadata": {
        "id": "Ttin_eDdroES"
      },
      "execution_count": 105,
      "outputs": []
    },
    {
      "cell_type": "code",
      "source": [
        "stud = Student(\"lokesh\")"
      ],
      "metadata": {
        "id": "CwVc2C9KszOX"
      },
      "execution_count": 106,
      "outputs": []
    },
    {
      "cell_type": "code",
      "source": [
        "stud.name"
      ],
      "metadata": {
        "colab": {
          "base_uri": "https://localhost:8080/",
          "height": 36
        },
        "id": "FWsQy0Bqs2G8",
        "outputId": "37994ff5-dc24-4d3e-853c-561869c8e829"
      },
      "execution_count": 107,
      "outputs": [
        {
          "output_type": "execute_result",
          "data": {
            "text/plain": [
              "'lokesh'"
            ],
            "application/vnd.google.colaboratory.intrinsic+json": {
              "type": "string"
            }
          },
          "metadata": {},
          "execution_count": 107
        }
      ]
    },
    {
      "cell_type": "code",
      "source": [
        "stud.show()"
      ],
      "metadata": {
        "colab": {
          "base_uri": "https://localhost:8080/"
        },
        "id": "oDIey_EIs3ff",
        "outputId": "5aabcf4f-93a2-4fc0-e0a6-683843d00094"
      },
      "execution_count": 108,
      "outputs": [
        {
          "output_type": "stream",
          "name": "stdout",
          "text": [
            "name lokesh college pwskills\n"
          ]
        }
      ]
    },
    {
      "cell_type": "code",
      "source": [
        "coll = College()"
      ],
      "metadata": {
        "id": "vts4kg8Ps4m_"
      },
      "execution_count": 109,
      "outputs": []
    },
    {
      "cell_type": "code",
      "source": [
        "coll._college_name #accessing the protected variable"
      ],
      "metadata": {
        "colab": {
          "base_uri": "https://localhost:8080/",
          "height": 36
        },
        "id": "EKanoP2xtJcv",
        "outputId": "31b04ef9-5f5e-45b6-d077-a43549b538f8"
      },
      "execution_count": 110,
      "outputs": [
        {
          "output_type": "execute_result",
          "data": {
            "text/plain": [
              "'pwskills'"
            ],
            "application/vnd.google.colaboratory.intrinsic+json": {
              "type": "string"
            }
          },
          "metadata": {},
          "execution_count": 110
        }
      ]
    },
    {
      "cell_type": "code",
      "source": [
        "# another way to access the data of basr class using super() class.\n",
        "\n",
        "class College:\n",
        "  def __init__(self):\n",
        "    self._college_name = \"pwskills\"\n",
        "\n",
        "class Student(College):\n",
        "  def __init__(self,name):\n",
        "    self.name = name\n",
        "    super().__init__() #inclue super and remove self , base class is super class.\n",
        "\n",
        "  def show(self):\n",
        "    print(\"name\", self.name , \"college\",  self._college_name)\n"
      ],
      "metadata": {
        "id": "ZZDeMoVPtOgL"
      },
      "execution_count": 111,
      "outputs": []
    },
    {
      "cell_type": "code",
      "source": [
        "stud = Student(\"lokesh\")"
      ],
      "metadata": {
        "id": "ZHwLrfJguEr-"
      },
      "execution_count": 113,
      "outputs": []
    },
    {
      "cell_type": "code",
      "source": [
        "stud.name"
      ],
      "metadata": {
        "colab": {
          "base_uri": "https://localhost:8080/",
          "height": 36
        },
        "id": "cSXLWbybuJu3",
        "outputId": "01feb3aa-88a3-447c-c467-b032e42fc7d4"
      },
      "execution_count": 114,
      "outputs": [
        {
          "output_type": "execute_result",
          "data": {
            "text/plain": [
              "'lokesh'"
            ],
            "application/vnd.google.colaboratory.intrinsic+json": {
              "type": "string"
            }
          },
          "metadata": {},
          "execution_count": 114
        }
      ]
    }
  ]
}