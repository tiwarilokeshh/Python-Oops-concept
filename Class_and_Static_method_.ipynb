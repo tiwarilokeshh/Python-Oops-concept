{
  "nbformat": 4,
  "nbformat_minor": 0,
  "metadata": {
    "colab": {
      "provenance": []
    },
    "kernelspec": {
      "name": "python3",
      "display_name": "Python 3"
    },
    "language_info": {
      "name": "python"
    }
  },
  "cells": [
    {
      "cell_type": "markdown",
      "source": [
        "# ***Class Method***"
      ],
      "metadata": {
        "id": "47qEivcPR9Iq"
      }
    },
    {
      "cell_type": "code",
      "source": [
        "# class method >> bound to the classs , it can access and modify method and\n",
        "# attributes associated to the class across all the instances\n",
        "\n",
        "#adtherate classmethod decorator\n",
        "#instead of self , cls as first parameter\n",
        "\n",
        "#alternative of init method to pass the data"
      ],
      "metadata": {
        "id": "i1T2iNB36CK7"
      },
      "execution_count": null,
      "outputs": []
    },
    {
      "cell_type": "code",
      "source": [
        "class Student:\n",
        "  #constructor >> constructing class with inialisation of data/variable.\n",
        "  def __init__(self,name):\n",
        "    self.name = name"
      ],
      "metadata": {
        "id": "gNYzbZYNGq8R"
      },
      "execution_count": null,
      "outputs": []
    },
    {
      "cell_type": "code",
      "source": [
        "stu = Student(\"ajay\")"
      ],
      "metadata": {
        "id": "P11HPR5fHKJx"
      },
      "execution_count": null,
      "outputs": []
    },
    {
      "cell_type": "code",
      "source": [
        "stu.name"
      ],
      "metadata": {
        "colab": {
          "base_uri": "https://localhost:8080/",
          "height": 36
        },
        "id": "QiVALC8SHO04",
        "outputId": "54f60bcb-707a-4263-969b-12a167149592"
      },
      "execution_count": null,
      "outputs": [
        {
          "output_type": "execute_result",
          "data": {
            "text/plain": [
              "'ajay'"
            ],
            "application/vnd.google.colaboratory.intrinsic+json": {
              "type": "string"
            }
          },
          "metadata": {},
          "execution_count": 3
        }
      ]
    },
    {
      "cell_type": "code",
      "source": [
        "class Student:\n",
        "\n",
        "  def __init__(self,name):\n",
        "    self.name = name #self means this varibale/method is referring to current class\n",
        "  @classmethod #bound to the class\n",
        "  def student_details(cls , name): #instead of self as first parameter , you are using cls >> meaning this method is associated/referring to the class itself\n",
        "    return cls(name)"
      ],
      "metadata": {
        "id": "ZqgrCzhdHRSr"
      },
      "execution_count": null,
      "outputs": []
    },
    {
      "cell_type": "code",
      "source": [
        "# what is the meaning that it is referring the class ?\n",
        "\n",
        "#earlier to access any method >> first make object of class\n",
        "\n",
        "#then obj.method\n",
        "\n",
        "#but if it is classmethod you can directly access it."
      ],
      "metadata": {
        "id": "NmK79W5_IKrO"
      },
      "execution_count": null,
      "outputs": []
    },
    {
      "cell_type": "code",
      "source": [
        "obj1 = Student.student_details(\"lokesh\") # since student_detail directly binds to the class you can directly call it without making any object"
      ],
      "metadata": {
        "id": "uRphdmQ0JCCd"
      },
      "execution_count": null,
      "outputs": []
    },
    {
      "cell_type": "code",
      "source": [
        "obj1.name"
      ],
      "metadata": {
        "colab": {
          "base_uri": "https://localhost:8080/",
          "height": 36
        },
        "id": "mNiubK6tJEbO",
        "outputId": "c967927b-11c0-4623-e5f5-312df17faf3d"
      },
      "execution_count": null,
      "outputs": [
        {
          "output_type": "execute_result",
          "data": {
            "text/plain": [
              "'lokesh'"
            ],
            "application/vnd.google.colaboratory.intrinsic+json": {
              "type": "string"
            }
          },
          "metadata": {},
          "execution_count": 9
        }
      ]
    },
    {
      "cell_type": "code",
      "source": [
        "# seeing class method as alternative of init method >> actully class method is overloading the init method"
      ],
      "metadata": {
        "id": "Xwmd1XKSJP1l"
      },
      "execution_count": null,
      "outputs": []
    },
    {
      "cell_type": "code",
      "source": [
        "# how class method is overloading the init method\n",
        "#modifying the class/instance method\n",
        "\n",
        "class Student:\n",
        "  def __init__(self,name):\n",
        "    self.name = name #init method is an class method\n",
        "  @classmethod\n",
        "  def student_details(cls , name1):\n",
        "    return cls(name1)"
      ],
      "metadata": {
        "id": "GZ621iydND-u"
      },
      "execution_count": null,
      "outputs": []
    },
    {
      "cell_type": "code",
      "source": [
        "stu = Student.student_details(\"ajay\")"
      ],
      "metadata": {
        "id": "gcPdibCKOLZO"
      },
      "execution_count": null,
      "outputs": []
    },
    {
      "cell_type": "code",
      "source": [
        "stu.name\n",
        "#you will get ajay inspite the variable name1\n",
        "#basically it is overloading this init method"
      ],
      "metadata": {
        "colab": {
          "base_uri": "https://localhost:8080/",
          "height": 36
        },
        "id": "pnOoO-fANuyU",
        "outputId": "52f5000f-0410-405e-8913-2fbf5de122fc"
      },
      "execution_count": null,
      "outputs": [
        {
          "output_type": "execute_result",
          "data": {
            "text/plain": [
              "'ajay'"
            ],
            "application/vnd.google.colaboratory.intrinsic+json": {
              "type": "string"
            }
          },
          "metadata": {},
          "execution_count": 14
        }
      ]
    },
    {
      "cell_type": "code",
      "source": [
        "# class method can modify class state applicable to all the instance/method of\n",
        "# the class\n",
        "\n",
        "class Student:\n",
        "  total_students = 0\n",
        "  def __init__(self,name):\n",
        "    self.name = name\n",
        "\n",
        "    Student.total_students = Student.total_students+1\n",
        "\n",
        "  @classmethod\n",
        "  def get_total_student(cls):\n",
        "    return cls.total_students"
      ],
      "metadata": {
        "id": "9hlOYO92OV0K"
      },
      "execution_count": null,
      "outputs": []
    },
    {
      "cell_type": "code",
      "source": [
        "Student.total_students"
      ],
      "metadata": {
        "colab": {
          "base_uri": "https://localhost:8080/"
        },
        "id": "q9BqYe39Qq4r",
        "outputId": "a6ae66e2-cec1-49dc-aee1-c74fb544758a"
      },
      "execution_count": null,
      "outputs": [
        {
          "output_type": "execute_result",
          "data": {
            "text/plain": [
              "0"
            ]
          },
          "metadata": {},
          "execution_count": 34
        }
      ]
    },
    {
      "cell_type": "code",
      "source": [
        "\n",
        "std1 = Student(\"lokesh\")\n",
        "std2 = Student(\"ajay\")"
      ],
      "metadata": {
        "id": "a0ZkelDZQwwh"
      },
      "execution_count": null,
      "outputs": []
    },
    {
      "cell_type": "code",
      "source": [
        "std1.name"
      ],
      "metadata": {
        "colab": {
          "base_uri": "https://localhost:8080/",
          "height": 36
        },
        "id": "An9Ar1s8Q7OM",
        "outputId": "8866f961-82d3-4ec2-9bd6-b54fad645f84"
      },
      "execution_count": null,
      "outputs": [
        {
          "output_type": "execute_result",
          "data": {
            "text/plain": [
              "'lokesh'"
            ],
            "application/vnd.google.colaboratory.intrinsic+json": {
              "type": "string"
            }
          },
          "metadata": {},
          "execution_count": 36
        }
      ]
    },
    {
      "cell_type": "code",
      "source": [
        "std2.name"
      ],
      "metadata": {
        "colab": {
          "base_uri": "https://localhost:8080/",
          "height": 36
        },
        "id": "K3LU1yZnRCQQ",
        "outputId": "05085648-f40e-4dfc-fe02-6be2299a9553"
      },
      "execution_count": null,
      "outputs": [
        {
          "output_type": "execute_result",
          "data": {
            "text/plain": [
              "'ajay'"
            ],
            "application/vnd.google.colaboratory.intrinsic+json": {
              "type": "string"
            }
          },
          "metadata": {},
          "execution_count": 37
        }
      ]
    },
    {
      "cell_type": "code",
      "source": [
        "\n",
        "Student.total_students"
      ],
      "metadata": {
        "colab": {
          "base_uri": "https://localhost:8080/"
        },
        "id": "DpObUNJeRDPc",
        "outputId": "d2885a30-89a7-4fde-989a-fe1a479da8ee"
      },
      "execution_count": null,
      "outputs": [
        {
          "output_type": "execute_result",
          "data": {
            "text/plain": [
              "2"
            ]
          },
          "metadata": {},
          "execution_count": 38
        }
      ]
    },
    {
      "cell_type": "code",
      "source": [
        "Student.get_total_student()"
      ],
      "metadata": {
        "colab": {
          "base_uri": "https://localhost:8080/"
        },
        "id": "KKKMUSr-RJeB",
        "outputId": "4f4a9107-c1c1-40cf-e250-2709eda06a6b"
      },
      "execution_count": null,
      "outputs": [
        {
          "output_type": "execute_result",
          "data": {
            "text/plain": [
              "2"
            ]
          },
          "metadata": {},
          "execution_count": 39
        }
      ]
    },
    {
      "cell_type": "code",
      "source": [
        "# to make external function as class method\n",
        "\n",
        "class Student:\n",
        "  total_students = 0\n",
        "  def __init__(self,name):\n",
        "    self.name = name\n",
        "\n",
        "    Student.total_students = Student.total_students+1\n",
        "\n",
        "  @classmethod\n",
        "  def get_total_student(cls):\n",
        "    return cls.total_students"
      ],
      "metadata": {
        "id": "Vk_uTnNhRR5t"
      },
      "execution_count": null,
      "outputs": []
    },
    {
      "cell_type": "code",
      "source": [
        "def course_details(cls,course_name):\n",
        "  print(\"course name is \",course_name)"
      ],
      "metadata": {
        "id": "RCaRAv89SO6F"
      },
      "execution_count": null,
      "outputs": []
    },
    {
      "cell_type": "code",
      "source": [
        "Student.course_details = classmethod(course_details) # adding external function as classmethod"
      ],
      "metadata": {
        "id": "WyTx_VzfSbP2"
      },
      "execution_count": null,
      "outputs": []
    },
    {
      "cell_type": "code",
      "source": [
        "Student.course_details(\"data science\")"
      ],
      "metadata": {
        "colab": {
          "base_uri": "https://localhost:8080/"
        },
        "id": "TavMXWh9SjZo",
        "outputId": "621e9389-2385-457d-9ac3-6e44f873d0ea"
      },
      "execution_count": null,
      "outputs": [
        {
          "output_type": "stream",
          "name": "stdout",
          "text": [
            "course name is  data science\n"
          ]
        }
      ]
    },
    {
      "cell_type": "code",
      "source": [
        "Student.get_total_student()"
      ],
      "metadata": {
        "colab": {
          "base_uri": "https://localhost:8080/"
        },
        "id": "guvgNVGcSsgz",
        "outputId": "dfcfea5f-e0f2-4a5c-fa2e-387d04ac22cb"
      },
      "execution_count": null,
      "outputs": [
        {
          "output_type": "execute_result",
          "data": {
            "text/plain": [
              "0"
            ]
          },
          "metadata": {},
          "execution_count": 45
        }
      ]
    },
    {
      "cell_type": "code",
      "source": [
        "st1 = Student(\"lokesh\")"
      ],
      "metadata": {
        "id": "L04GbFtLSv9z"
      },
      "execution_count": null,
      "outputs": []
    },
    {
      "cell_type": "code",
      "source": [
        "st1.get_total_student()"
      ],
      "metadata": {
        "colab": {
          "base_uri": "https://localhost:8080/"
        },
        "id": "77yp63fXSzLa",
        "outputId": "e69910cd-1cca-4077-f9c4-634d8470ee37"
      },
      "execution_count": null,
      "outputs": [
        {
          "output_type": "execute_result",
          "data": {
            "text/plain": [
              "1"
            ]
          },
          "metadata": {},
          "execution_count": 50
        }
      ]
    },
    {
      "cell_type": "code",
      "source": [
        "st1.name"
      ],
      "metadata": {
        "colab": {
          "base_uri": "https://localhost:8080/",
          "height": 36
        },
        "id": "1dPfaaClTBjx",
        "outputId": "ef278222-f298-49d9-cb18-5d2c03a5df86"
      },
      "execution_count": null,
      "outputs": [
        {
          "output_type": "execute_result",
          "data": {
            "text/plain": [
              "'lokesh'"
            ],
            "application/vnd.google.colaboratory.intrinsic+json": {
              "type": "string"
            }
          },
          "metadata": {},
          "execution_count": 52
        }
      ]
    },
    {
      "cell_type": "code",
      "source": [
        "#delete any class method\n",
        "del Student.course_details"
      ],
      "metadata": {
        "id": "ZK2wTuonTC3i"
      },
      "execution_count": 53,
      "outputs": []
    },
    {
      "cell_type": "code",
      "source": [
        "Student.course_details(\"data science\")"
      ],
      "metadata": {
        "colab": {
          "base_uri": "https://localhost:8080/",
          "height": 141
        },
        "id": "tHEyQ2cnUJmp",
        "outputId": "fb1a0f02-15ce-4933-e208-9addbb31c5d3"
      },
      "execution_count": 54,
      "outputs": [
        {
          "output_type": "error",
          "ename": "AttributeError",
          "evalue": "type object 'Student' has no attribute 'course_details'",
          "traceback": [
            "\u001b[0;31m---------------------------------------------------------------------------\u001b[0m",
            "\u001b[0;31mAttributeError\u001b[0m                            Traceback (most recent call last)",
            "\u001b[0;32m<ipython-input-54-9f6c2ecf5c59>\u001b[0m in \u001b[0;36m<cell line: 0>\u001b[0;34m()\u001b[0m\n\u001b[0;32m----> 1\u001b[0;31m \u001b[0mStudent\u001b[0m\u001b[0;34m.\u001b[0m\u001b[0mcourse_details\u001b[0m\u001b[0;34m(\u001b[0m\u001b[0;34m\"data science\"\u001b[0m\u001b[0;34m)\u001b[0m\u001b[0;34m\u001b[0m\u001b[0;34m\u001b[0m\u001b[0m\n\u001b[0m",
            "\u001b[0;31mAttributeError\u001b[0m: type object 'Student' has no attribute 'course_details'"
          ]
        }
      ]
    },
    {
      "cell_type": "code",
      "source": [
        "Student.get_total_student()"
      ],
      "metadata": {
        "colab": {
          "base_uri": "https://localhost:8080/"
        },
        "id": "q02glzoNUP7a",
        "outputId": "a75abd12-0c66-426e-bd4c-1f36cb81c766"
      },
      "execution_count": 55,
      "outputs": [
        {
          "output_type": "execute_result",
          "data": {
            "text/plain": [
              "1"
            ]
          },
          "metadata": {},
          "execution_count": 55
        }
      ]
    },
    {
      "cell_type": "code",
      "source": [
        "# another way to delete\n",
        "\n",
        "delattr(Student,\"get_total_student\")"
      ],
      "metadata": {
        "id": "wytaLpzhUS3-"
      },
      "execution_count": 57,
      "outputs": []
    },
    {
      "cell_type": "code",
      "source": [
        "Student.get_total_student()"
      ],
      "metadata": {
        "colab": {
          "base_uri": "https://localhost:8080/",
          "height": 141
        },
        "id": "wJSxBbd9UWpf",
        "outputId": "b2f571fa-dcc4-4d72-932b-a1fc5c03326d"
      },
      "execution_count": 58,
      "outputs": [
        {
          "output_type": "error",
          "ename": "AttributeError",
          "evalue": "type object 'Student' has no attribute 'get_total_student'",
          "traceback": [
            "\u001b[0;31m---------------------------------------------------------------------------\u001b[0m",
            "\u001b[0;31mAttributeError\u001b[0m                            Traceback (most recent call last)",
            "\u001b[0;32m<ipython-input-58-d0ef8647eb9d>\u001b[0m in \u001b[0;36m<cell line: 0>\u001b[0;34m()\u001b[0m\n\u001b[0;32m----> 1\u001b[0;31m \u001b[0mStudent\u001b[0m\u001b[0;34m.\u001b[0m\u001b[0mget_total_student\u001b[0m\u001b[0;34m(\u001b[0m\u001b[0;34m)\u001b[0m\u001b[0;34m\u001b[0m\u001b[0;34m\u001b[0m\u001b[0m\n\u001b[0m",
            "\u001b[0;31mAttributeError\u001b[0m: type object 'Student' has no attribute 'get_total_student'"
          ]
        }
      ]
    },
    {
      "cell_type": "markdown",
      "source": [
        "# ***Static Method***\n",
        "\n",
        "> does not modify class or instance state\n",
        "\n",
        "> it behave like a plain function that belong to class\n",
        "\n",
        "> it doesn`t take either self or cls\n",
        "\n",
        "> does`nt depend on class/instance\n",
        "\n",
        "> works with parameter pass.\n",
        "\n",
        "\n",
        "\n",
        "\n",
        "\n",
        "\n",
        "\n",
        "\n",
        "\n"
      ],
      "metadata": {
        "id": "07a8GNW5UmZb"
      }
    },
    {
      "cell_type": "code",
      "source": [
        "class Calc:\n",
        "  @staticmethod\n",
        "  def add(x,y):\n",
        "    return x+y\n",
        "\n",
        "  @staticmethod\n",
        "  def subtract(x,y):\n",
        "    return x-y"
      ],
      "metadata": {
        "id": "pg3SKuXeUf7z"
      },
      "execution_count": 59,
      "outputs": []
    },
    {
      "cell_type": "code",
      "source": [
        "Calc.add(3,4)"
      ],
      "metadata": {
        "colab": {
          "base_uri": "https://localhost:8080/"
        },
        "id": "njVz1jvuVevn",
        "outputId": "57509a11-1462-4775-a1aa-c9ea2c382bbf"
      },
      "execution_count": 61,
      "outputs": [
        {
          "output_type": "execute_result",
          "data": {
            "text/plain": [
              "7"
            ]
          },
          "metadata": {},
          "execution_count": 61
        }
      ]
    },
    {
      "cell_type": "code",
      "source": [
        "Calc.subtract(3,4)"
      ],
      "metadata": {
        "colab": {
          "base_uri": "https://localhost:8080/"
        },
        "id": "B9O68CdSVg2N",
        "outputId": "e083c65a-1aa7-4d80-901c-c7bece421cc1"
      },
      "execution_count": 62,
      "outputs": [
        {
          "output_type": "execute_result",
          "data": {
            "text/plain": [
              "-1"
            ]
          },
          "metadata": {},
          "execution_count": 62
        }
      ]
    }
  ]
}